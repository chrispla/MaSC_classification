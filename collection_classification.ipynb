{
 "cells": [
  {
   "source": [
    "# Classification of Eisenberg and Arab Mashriq Collections\n",
    "\n",
    "Read audio files, compute audio features, and classify.\n",
    "\n"
   ],
   "cell_type": "markdown",
   "metadata": {}
  },
  {
   "source": [
    "## Importing"
   ],
   "cell_type": "markdown",
   "metadata": {}
  },
  {
   "cell_type": "code",
   "execution_count": null,
   "metadata": {},
   "outputs": [],
   "source": [
    "import glob\n",
    "import os\n",
    "import numpy as np\n",
    "import librosa\n",
    "from sklearn.model_selection import KFold\n",
    "from sklearn.model_selection import StratifiedKFold\n",
    "from sklearn.svm import SVC\n",
    "from sklearn.neural_network import MLPClassifier\n",
    "from sklearn.model_selection import cross_val_score\n",
    "from sklearn.preprocessing import StandardScaler"
   ]
  },
  {
   "source": [
    "## Reading"
   ],
   "cell_type": "markdown",
   "metadata": {}
  },
  {
   "cell_type": "code",
   "execution_count": null,
   "metadata": {},
   "outputs": [],
   "source": [
    "# Read audio file paths\n",
    "all_dirs = []\n",
    "for root, dirs, files in os.walk('/Volumes/Extreme SSD/Collections_classification'): #change directory here\n",
    "        for name in files:\n",
    "            if '.wav' in name:\n",
    "                filedir = os.path.join(root, name)\n",
    "                if (librosa.get_duration(filename=filedir) == 15.):\n",
    "                    all_dirs.append(filedir)\n",
    "                    sys.stdout.write(\"\\rLoading %i recordings.\" % (len(all_dirs)))\n",
    "                    sys.stdout.flush()\n",
    "print()\n",
    "file_no = len(all_dirs)\n",
    "\n",
    "# Get Labels\n",
    "col = []\n",
    "col_a = 0\n",
    "col_e = 0\n",
    "for i in range(file_no):\n",
    "    if 'ArabMashriq' in all_dirs[i]:\n",
    "        col.append('ArabMashriq')\n",
    "        col_a += 1\n",
    "    elif 'EisenbergCollection' in all_dirs[i]:\n",
    "        col.append('EisenbergCollection')\n",
    "        col_e += 1\n",
    "col = np.asarray(col)\n",
    "print('Arab Mashriq:', col_a, 'recordings.')\n",
    "print('Eisenberg:', col_e, 'recordings.')"
   ]
  },
  {
   "source": [
    "## Computing features"
   ],
   "cell_type": "markdown",
   "metadata": {}
  },
  {
   "cell_type": "code",
   "execution_count": null,
   "metadata": {},
   "outputs": [],
   "source": [
    "all_mfcc = []\n",
    "all_mel = []\n",
    "\n",
    "for f in range(file_no):\n",
    "\n",
    "    #Load file\n",
    "    y, sr = librosa.core.load(all_dirs[f], duration=15.)\n",
    "\n",
    "    #Features\n",
    "    mfcc = librosa.feature.mfcc(y=y, sr=sr, n_mfcc=13)\n",
    "    mel = librosa.feature.melspectrogram(y=y, sr=sr)\n",
    "    all_mfcc.append(mfcc.flatten())\n",
    "    all_mel.append(mel.flatten())\n",
    "\n",
    "    sys.stdout.write(\"\\rComputed for %i/%i recordings.\" % (f+1,len(all_dirs)))\n",
    "    sys.stdout.flush()\n",
    "print()\n",
    "\n",
    "#Standardization\n",
    "scl_mfcc = StandardScaler()\n",
    "X_mfcc = np.asarray(scl_mfcc.fit_transform(all_mfcc))\n",
    "scl_mel = StandardScaler()\n",
    "X_mel = np.asarray(scl_mel.fit_transform(all_mel))\n",
    "print('Completed standardization.')"
   ]
  },
  {
   "source": [
    "## Classification"
   ],
   "cell_type": "markdown",
   "metadata": {}
  },
  {
   "cell_type": "code",
   "execution_count": null,
   "metadata": {},
   "outputs": [],
   "source": [
    "#KFold\n",
    "cv = KFold(n_splits=6, shuffle=True)\n",
    "\n",
    "#Classifiers\n",
    "svc_mfcc = SVC(gamma='auto')\n",
    "mlp_mfcc =  MLPClassifier()\n",
    "svc_mel = SVC(gamma='auto')\n",
    "mlp_mel =  MLPClassifier()\n",
    "\n",
    "svc_scores_mfcc = []\n",
    "mlp_scores_mfcc = []\n",
    "svc_scores_mel = []\n",
    "mlp_scores_mel = []\n",
    "\n",
    "# classification using MFCC\n",
    "for train_index, test_index in cv.split(X_mfcc):\n",
    "    \n",
    "    X_train, X_test, y_train, y_test = X_mfcc[train_index], X_mfcc[test_index], col[train_index], col[test_index]\n",
    "    svc_mfcc.fit(X_train, y_train)\n",
    "    svc_scores_mfcc.append(svc_mfcc.score(X_test, y_test))\n",
    "    mlp_mfcc.fit(X_train, y_train)\n",
    "    mlp_scores_mfcc.append(mlp_mfcc.score(X_test, y_test))\n",
    "print('Classification for MFCC completed.')\n",
    "\n",
    "# classification using Mel Spectrogram\n",
    "for train_index, test_index in cv.split(X_mel):\n",
    "\n",
    "    X_train, X_test, y_train, y_test = X_mel[train_index], X_mel[test_index], col[train_index], col[test_index]\n",
    "    svc_mel.fit(X_train, y_train)\n",
    "    svc_scores_mel.append(svc_mel.score(X_test, y_test))\n",
    "    mlp_mel.fit(X_train, y_train)\n",
    "    mlp_scores_mel.append(mlp_mel.score(X_test, y_test))\n",
    "print('Classification for Mel Spectrogram completed.')\n",
    "\n",
    "print('SVC MFCC Scores:', svc_scores_mfcc)\n",
    "print('MLP MFCC Scores:', mlp_scores_mfcc)\n",
    "print('SVC Mel Scores:', svc_scores_mel)\n",
    "print('MLP Mel Scores:', mlp_scores_mel)\n",
    "\n",
    "print('SVC MFCC Cross Validation Scores:', cross_val_score(svc_mfcc, X_mfcc, col, cv=6, verbose=0))\n",
    "print('MLP MFCC Cross Validation Scores:', cross_val_score(mlp_mfcc, X_mfcc, col, cv=6, verbose=0))\n",
    "print('SVC Mel Cross Validation Scores:', cross_val_score(svc_mel, X_mel, col, cv=6, verbose=0))\n",
    "print('MLP Mel Cross Validation Scores:', cross_val_score(mlp_mel, X_mel, col, cv=6, verbose=0))"
   ]
  }
 ],
 "metadata": {
  "kernelspec": {
   "name": "python394jvsc74a57bd095ec9ec1504d83f612128e0fb229072f90bbb4cb09d9d5d93b5dd26e0ca2cfd1",
   "display_name": "Python 3.9.4 64-bit ('base': conda)"
  },
  "language_info": {
   "codemirror_mode": {
    "name": "ipython",
    "version": 3
   },
   "file_extension": ".py",
   "mimetype": "text/x-python",
   "name": "python",
   "nbconvert_exporter": "python",
   "pygments_lexer": "ipython3",
   "version": "3.9.4"
  },
  "metadata": {
   "interpreter": {
    "hash": "95ec9ec1504d83f612128e0fb229072f90bbb4cb09d9d5d93b5dd26e0ca2cfd1"
   }
  }
 },
 "nbformat": 4,
 "nbformat_minor": 4
}